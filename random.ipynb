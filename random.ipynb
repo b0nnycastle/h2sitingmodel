{
 "cells": [
  {
   "cell_type": "code",
   "execution_count": 4,
   "id": "6224b91e",
   "metadata": {},
   "outputs": [
    {
     "name": "stdout",
     "output_type": "stream",
     "text": [
      "GeoJSON file created: locations_of_interest/CA_MDHD_ze_refueling_infrastructure_locations_hy_with_geom.geojson\n"
     ]
    }
   ],
   "source": [
    "# convert csv to geojson\n",
    "import csv\n",
    "import json\n",
    "import sys\n",
    "import os\n",
    "def csv_to_geojson(csv_file, geojson_file):\n",
    "    features = []\n",
    "    with open(csv_file, 'r') as f:\n",
    "        reader = csv.DictReader(f)\n",
    "        for row in reader:\n",
    "            if 'latitude' in row and 'longitude' in row:\n",
    "                lat = float(row['latitude'])\n",
    "                lon = float(row['longitude'])\n",
    "                properties = {k: v for k, v in row.items() if k not in ['latitude', 'longitude']}\n",
    "                features.append({\n",
    "                    \"type\": \"Feature\",\n",
    "                    \"geometry\": {\n",
    "                        \"type\": \"Point\",\n",
    "                        \"coordinates\": [lon, lat]\n",
    "                    },\n",
    "                    \"properties\": properties\n",
    "                })\n",
    "\n",
    "    geojson = {\n",
    "        \"type\": \"FeatureCollection\",\n",
    "        \"features\": features\n",
    "    }\n",
    "\n",
    "    with open(geojson_file, 'w') as f:\n",
    "        json.dump(geojson, f, indent=4)\n",
    "        \n",
    "        \n",
    "input_csv = 'locations_of_interest/CA_MDHD_ze_refueling_infrastructure_locations_hy_with_geom.csv'\n",
    "output_geojson = 'locations_of_interest/CA_MDHD_ze_refueling_infrastructure_locations_hy_with_geom.geojson'\n",
    "\n",
    "csv_to_geojson(input_csv, output_geojson)\n",
    "print(f\"GeoJSON file created: {output_geojson}\")\n"
   ]
  },
  {
   "cell_type": "code",
   "execution_count": 9,
   "id": "a931c8f6",
   "metadata": {},
   "outputs": [
    {
     "name": "stdout",
     "output_type": "stream",
     "text": [
      "Available columns: ['OBJECTID', 'Charging_or_Hydrogen', 'Dispenser_Count', 'Nozzle_Count', 'Address', 'Latitude', 'Longitude', 'Funding_Agencies', 'GlobalID', 'Operator', 'Eligible', 'Liquid_Gaseous', 'Charging_Capacity', 'Station_Capacity', 'Station_Capacity_est_flag', 'Maximum_Charging', 'geometry', 'geometry_wkt', 'bbox_minx', 'bbox_miny', 'bbox_maxx', 'bbox_maxy', 'centroid_x', 'centroid_y', 'geojson']\n",
      "Successfully converted to locations_of_interest/CA_MDHD_ze_refueling_infrastructure_locations_hy_with_geom.geojson\n"
     ]
    }
   ],
   "source": [
    "import pandas as pd\n",
    "import geopandas as gpd\n",
    "from shapely.geometry import Point\n",
    "\n",
    "# Define input and output files\n",
    "input_csv = 'locations_of_interest/CA_MDHD_ze_refueling_infrastructure_locations_hy_with_geom.csv'\n",
    "output_geojson = 'locations_of_interest/CA_MDHD_ze_refueling_infrastructure_locations_hy_with_geom.geojson'\n",
    "\n",
    "# Load CSV file into pandas DataFrame\n",
    "df = pd.read_csv(input_csv)\n",
    "\n",
    "# Check available columns\n",
    "print(\"Available columns:\", df.columns.tolist())\n",
    "\n",
    "# Adjust these column names if your CSV uses different names\n",
    "latitude_col = 'latitude'   # Replace if necessary\n",
    "longitude_col = 'longitude' # Replace if necessary\n",
    "\n",
    "# Verify latitude and longitude columns \n",
    "# Check by comparing lowercase column names\n",
    "\n",
    "if latitude_col not in df.columns.str.lower() or longitude_col not in df.columns.str.lower():\n",
    "    raise ValueError(f\"Latitude/Longitude columns not found. Available columns: {df.columns.tolist()}\")\n",
    "\n",
    "\n",
    "# Drop rows with missing coordinates using lowercase column names\n",
    "df.columns = df.columns.str.lower()  # Normalize column names to lowercase\n",
    "df = df.dropna(subset=[latitude_col, longitude_col])\n",
    "\n",
    "# Convert DataFrame to GeoDataFrame\n",
    "geometry = [Point(xy) for xy in zip(df[longitude_col], df[latitude_col])]\n",
    "gdf = gpd.GeoDataFrame(df, geometry=geometry, crs=\"EPSG:4326\")\n",
    "\n",
    "# Save as GeoJSON\n",
    "gdf.to_file(output_geojson, driver='GeoJSON')\n",
    "\n",
    "print(f\"Successfully converted to {output_geojson}\")\n"
   ]
  },
  {
   "cell_type": "code",
   "execution_count": 10,
   "id": "99d0a17a",
   "metadata": {},
   "outputs": [
    {
     "name": "stdout",
     "output_type": "stream",
     "text": [
      "Successfully converted to CSV: extracted_lois/gas_stations_from_CA_Energy_Commission.csv\n"
     ]
    }
   ],
   "source": [
    "import geopandas as gpd\n",
    "import pandas as pd\n",
    "\n",
    "# Input GeoJSON file path\n",
    "geojson_input = 'extracted_lois/gas_stations_from_CA_Energy_Commission_Gas_Stations.geojson'\n",
    "\n",
    "# Output CSV file path\n",
    "csv_output = 'extracted_lois/gas_stations_from_CA_Energy_Commission.csv'\n",
    "\n",
    "# Load GeoJSON into a GeoDataFrame\n",
    "gdf = gpd.read_file(geojson_input)\n",
    "\n",
    "# Check if geometry column exists\n",
    "if 'geometry' not in gdf.columns:\n",
    "    raise ValueError(\"No 'geometry' column found in GeoJSON.\")\n",
    "\n",
    "# Extract latitude and longitude\n",
    "gdf['longitude'] = gdf.geometry.x\n",
    "gdf['latitude'] = gdf.geometry.y\n",
    "\n",
    "# Convert GeoDataFrame to regular DataFrame, dropping the geometry\n",
    "df = pd.DataFrame(gdf.drop(columns='geometry'))\n",
    "\n",
    "# Save DataFrame to CSV\n",
    "df.to_csv(csv_output, index=False)\n",
    "\n",
    "print(f\"Successfully converted to CSV: {csv_output}\")\n"
   ]
  },
  {
   "cell_type": "code",
   "execution_count": 20,
   "id": "4a5860f5",
   "metadata": {},
   "outputs": [
    {
     "data": {
      "text/plain": [
       "True"
      ]
     },
     "execution_count": 20,
     "metadata": {},
     "output_type": "execute_result"
    }
   ],
   "source": [
    "import numpy as np \n",
    "np.isclose(0.99, 1.0, atol=1e-2)"
   ]
  },
  {
   "cell_type": "code",
   "execution_count": 29,
   "id": "fe3944fb",
   "metadata": {},
   "outputs": [
    {
     "data": {
      "text/plain": [
       "0.40656965974059917"
      ]
     },
     "execution_count": 29,
     "metadata": {},
     "output_type": "execute_result"
    }
   ],
   "source": [
    "np.exp(-0.3 * 3)"
   ]
  },
  {
   "cell_type": "code",
   "execution_count": 36,
   "id": "261b0798",
   "metadata": {},
   "outputs": [
    {
     "data": {
      "text/plain": [
       "array([0.9  , 0.875, 0.85 , 0.825, 0.8  ])"
      ]
     },
     "execution_count": 36,
     "metadata": {},
     "output_type": "execute_result"
    }
   ],
   "source": [
    "refuel_window = np.array([0.2, 0.25, 0.3, 0.35, 0.4])  # Example refuel window in hours\n",
    "(1 - 0.5 * refuel_window) "
   ]
  },
  {
   "cell_type": "code",
   "execution_count": null,
   "id": "3b8f3904",
   "metadata": {},
   "outputs": [],
   "source": [
    "refuel_window = np.array([0.2, 0.25, 0.3, 0.35])  # Example refuel window in hours\n",
    "(1 - 0.5 * refuel_window) "
   ]
  }
 ],
 "metadata": {
  "kernelspec": {
   "display_name": "3.9.18",
   "language": "python",
   "name": "python3"
  },
  "language_info": {
   "codemirror_mode": {
    "name": "ipython",
    "version": 3
   },
   "file_extension": ".py",
   "mimetype": "text/x-python",
   "name": "python",
   "nbconvert_exporter": "python",
   "pygments_lexer": "ipython3",
   "version": "3.9.18"
  }
 },
 "nbformat": 4,
 "nbformat_minor": 5
}
